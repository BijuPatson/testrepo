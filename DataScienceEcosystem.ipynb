{
 "cells": [
  {
   "cell_type": "markdown",
   "id": "1c6ef567-b1cd-42b8-b1f8-4444b1ca9473",
   "metadata": {},
   "source": [
    "# Data Science Tools and Ecosystem "
   ]
  },
  {
   "cell_type": "markdown",
   "id": "35444afa-4de7-424a-9e9f-479e23c9af6d",
   "metadata": {},
   "source": [
    "In this notebook, Data Science Tools and Ecosystem are summarized.\n",
    "**Objectives**\n",
    "- popular languages that Data Scientists use are\n",
    "- commonly used libraries used by Data Scientists include\n",
    "- Data Science Tools\n",
    "- examples of evaluating arithmetic expressions in Python\n",
    "- arithmetic expression to multiply then add integers\n",
    "- convert 200 minutes to hours by diving by 60"
   ]
  },
  {
   "cell_type": "markdown",
   "id": "f5d13cbf-6492-47ac-b81b-938bc19c0df7",
   "metadata": {},
   "source": [
    "Some of the popular languages that Data Scientists use are:\n",
    "1. Python\n",
    "2. R\n",
    "3. Java\n",
    "4. Scala"
   ]
  },
  {
   "cell_type": "markdown",
   "id": "e6d82d35-0009-4d64-95dc-8ba9eb34c60f",
   "metadata": {},
   "source": [
    "Some of the commonly used libraries used by Data Scientists include:\n",
    "1. TensorFlow\n",
    "2. Pandas\n",
    "3. Keras"
   ]
  },
  {
   "cell_type": "markdown",
   "id": "f5000f83-e1ae-451a-9423-52beb4e04416",
   "metadata": {},
   "source": [
    "|Data Science Tools|\n",
    "|------------------|\n",
    "|Apache Spark|\n",
    "|TensorFlow|\n",
    "|Scikit-Learn|"
   ]
  },
  {
   "cell_type": "markdown",
   "id": "08bdd939-999d-4a90-9b57-57c955e59a97",
   "metadata": {},
   "source": [
    "### Below are a few examples of evaluating arithmetic expressions in Python\n",
    "5+2\n",
    "(6+1)*3\n",
    "9/4"
   ]
  },
  {
   "cell_type": "code",
   "execution_count": 2,
   "id": "e263cd9e-0313-4fe0-b55a-3747dfcf0604",
   "metadata": {
    "tags": []
   },
   "outputs": [
    {
     "data": {
      "text/plain": [
       "17"
      ]
     },
     "execution_count": 2,
     "metadata": {},
     "output_type": "execute_result"
    }
   ],
   "source": [
    "#This a simple arithmetic expression to mutiply then add integers\n",
    "(3*4)+5"
   ]
  },
  {
   "cell_type": "code",
   "execution_count": 6,
   "id": "1332310d-555e-41a5-a4dd-92b93e847838",
   "metadata": {
    "tags": []
   },
   "outputs": [
    {
     "name": "stdout",
     "output_type": "stream",
     "text": [
      "3 hours\n"
     ]
    }
   ],
   "source": [
    "#This will convert 200 minutes to hours by diving by 60.\n",
    "a=200\n",
    "b=60\n",
    "hours=a//b\n",
    "print (hours,\"hours\")"
   ]
  },
  {
   "cell_type": "markdown",
   "id": "f2041bbb-954a-48b5-bd16-409e709f00ef",
   "metadata": {},
   "source": [
    "## Author\n",
    "Biju Patson T"
   ]
  }
 ],
 "metadata": {
  "kernelspec": {
   "display_name": "Python",
   "language": "python",
   "name": "conda-env-python-py"
  },
  "language_info": {
   "codemirror_mode": {
    "name": "ipython",
    "version": 3
   },
   "file_extension": ".py",
   "mimetype": "text/x-python",
   "name": "python",
   "nbconvert_exporter": "python",
   "pygments_lexer": "ipython3",
   "version": "3.7.12"
  }
 },
 "nbformat": 4,
 "nbformat_minor": 5
}
